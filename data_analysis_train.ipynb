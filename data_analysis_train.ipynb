{
 "cells": [
  {
   "cell_type": "markdown",
   "metadata": {},
   "source": [
    "# Train data 0 column is the meeting transcript and second column 1 is its abstraction"
   ]
  },
  {
   "cell_type": "code",
   "execution_count": 1,
   "metadata": {},
   "outputs": [
    {
     "data": {
      "text/html": [
       "<div>\n",
       "<style scoped>\n",
       "    .dataframe tbody tr th:only-of-type {\n",
       "        vertical-align: middle;\n",
       "    }\n",
       "\n",
       "    .dataframe tbody tr th {\n",
       "        vertical-align: top;\n",
       "    }\n",
       "\n",
       "    .dataframe thead th {\n",
       "        text-align: right;\n",
       "    }\n",
       "</style>\n",
       "<table border=\"1\" class=\"dataframe\">\n",
       "  <thead>\n",
       "    <tr style=\"text-align: right;\">\n",
       "      <th></th>\n",
       "      <th>0</th>\n",
       "      <th>1</th>\n",
       "    </tr>\n",
       "  </thead>\n",
       "  <tbody>\n",
       "    <tr>\n",
       "      <th>0</th>\n",
       "      <td>well this is the kick-off meeting for our our ...</td>\n",
       "      <td>The project manager introduced the upcoming pr...</td>\n",
       "    </tr>\n",
       "    <tr>\n",
       "      <th>1</th>\n",
       "      <td>so according to the brief we're gonna be selli...</td>\n",
       "      <td>The project manager talked about the project f...</td>\n",
       "    </tr>\n",
       "    <tr>\n",
       "      <th>2</th>\n",
       "      <td>as well as characters, different keypad styles...</td>\n",
       "      <td>The team then discussed various features to co...</td>\n",
       "    </tr>\n",
       "    <tr>\n",
       "      <th>3</th>\n",
       "      <td>I mean do you think the fact that it's going t...</td>\n",
       "      <td>The remote will be sold on an international sc...</td>\n",
       "    </tr>\n",
       "    <tr>\n",
       "      <th>4</th>\n",
       "      <td>And we don't want it to cost any more than twe...</td>\n",
       "      <td>The production costs cannot exceed 12.50 Euro.</td>\n",
       "    </tr>\n",
       "  </tbody>\n",
       "</table>\n",
       "</div>"
      ],
      "text/plain": [
       "                                                   0  \\\n",
       "0  well this is the kick-off meeting for our our ...   \n",
       "1  so according to the brief we're gonna be selli...   \n",
       "2  as well as characters, different keypad styles...   \n",
       "3  I mean do you think the fact that it's going t...   \n",
       "4  And we don't want it to cost any more than twe...   \n",
       "\n",
       "                                                   1  \n",
       "0  The project manager introduced the upcoming pr...  \n",
       "1  The project manager talked about the project f...  \n",
       "2  The team then discussed various features to co...  \n",
       "3  The remote will be sold on an international sc...  \n",
       "4     The production costs cannot exceed 12.50 Euro.  "
      ]
     },
     "execution_count": 1,
     "metadata": {},
     "output_type": "execute_result"
    }
   ],
   "source": [
    "import pandas as pd\n",
    "df = pd.read_csv(\"data\\data.train.tsv\",sep=\"\\t\", header=None)\n",
    "df.head()"
   ]
  },
  {
   "cell_type": "code",
   "execution_count": 2,
   "metadata": {},
   "outputs": [
    {
     "data": {
      "text/plain": [
       "\"well this is the kick-off meeting for our our project. so we're designing a new remote control and, as you can see it's supposed to be original, trendy and user friendly. and so there are three different stages to the design. So we're gonna have like individual work and then a meeting about it. And repeat that process three times. So you get to draw your favourite animal and sum up your favourite characteristics of it. My favourite animal is like A beagle., right, well basically high priority for any animal for me is that they be willing to take a lot of physical affection from their family. And, yeah that they have lots of personality Well, my favourite animal would be a monkey. Then they're small cute and furry, and I kind of like whales. They come in and go eat everything in sight. M my favourite animal is my own dog at home. he's very friendly and cheery and always pleased to see you,\""
      ]
     },
     "execution_count": 2,
     "metadata": {},
     "output_type": "execute_result"
    }
   ],
   "source": [
    "df[0][0]"
   ]
  },
  {
   "cell_type": "code",
   "execution_count": 3,
   "metadata": {},
   "outputs": [
    {
     "data": {
      "text/plain": [
       "'The project manager talked about the project finances and selling prices.'"
      ]
     },
     "execution_count": 3,
     "metadata": {},
     "output_type": "execute_result"
    }
   ],
   "source": [
    "df[1][1]"
   ]
  },
  {
   "cell_type": "code",
   "execution_count": 4,
   "metadata": {},
   "outputs": [
    {
     "data": {
      "text/plain": [
       "(1734, 2)"
      ]
     },
     "execution_count": 4,
     "metadata": {},
     "output_type": "execute_result"
    }
   ],
   "source": [
    "# Shape of train data\n",
    "df.shape"
   ]
  },
  {
   "cell_type": "markdown",
   "metadata": {},
   "source": [
    "# Second data set is test data first column is meeting transript and second column 1 is abstraction"
   ]
  },
  {
   "cell_type": "code",
   "execution_count": 5,
   "metadata": {},
   "outputs": [
    {
     "data": {
      "text/html": [
       "<div>\n",
       "<style scoped>\n",
       "    .dataframe tbody tr th:only-of-type {\n",
       "        vertical-align: middle;\n",
       "    }\n",
       "\n",
       "    .dataframe tbody tr th {\n",
       "        vertical-align: top;\n",
       "    }\n",
       "\n",
       "    .dataframe thead th {\n",
       "        text-align: right;\n",
       "    }\n",
       "</style>\n",
       "<table border=\"1\" class=\"dataframe\">\n",
       "  <thead>\n",
       "    <tr style=\"text-align: right;\">\n",
       "      <th></th>\n",
       "      <th>0</th>\n",
       "      <th>1</th>\n",
       "    </tr>\n",
       "  </thead>\n",
       "  <tbody>\n",
       "    <tr>\n",
       "      <th>0</th>\n",
       "      <td>Okay,, first is the functional design, this is...</td>\n",
       "      <td>She presented a long-range agenda for the whol...</td>\n",
       "    </tr>\n",
       "    <tr>\n",
       "      <th>1</th>\n",
       "      <td>We're gonna practice with the pens and draw ou...</td>\n",
       "      <td>The group introduced themselves to each other ...</td>\n",
       "    </tr>\n",
       "    <tr>\n",
       "      <th>2</th>\n",
       "      <td>Yeah, I don't I don't know how for twenty fi, ...</td>\n",
       "      <td>There may not be enough money in the budget to...</td>\n",
       "    </tr>\n",
       "    <tr>\n",
       "      <th>3</th>\n",
       "      <td>I'm Sarah, the Project Manager Okay, this is o...</td>\n",
       "      <td>The Project Manager gave an introduction to th...</td>\n",
       "    </tr>\n",
       "    <tr>\n",
       "      <th>4</th>\n",
       "      <td>but you know on a mobile phone, you can press ...</td>\n",
       "      <td>They discussed grouping features into a menu a...</td>\n",
       "    </tr>\n",
       "    <tr>\n",
       "      <th>5</th>\n",
       "      <td>And there's no reason we need to make it look ...</td>\n",
       "      <td>They also discussed the look of various materi...</td>\n",
       "    </tr>\n",
       "    <tr>\n",
       "      <th>6</th>\n",
       "      <td>finance-wise, we've got a selling price at twe...</td>\n",
       "      <td>The Project Manager presented the project budg...</td>\n",
       "    </tr>\n",
       "    <tr>\n",
       "      <th>7</th>\n",
       "      <td>What are your experiences with remote controls...</td>\n",
       "      <td>Then the group began a discussion about their ...</td>\n",
       "    </tr>\n",
       "    <tr>\n",
       "      <th>8</th>\n",
       "      <td>so we're all gonna go off and do our individua...</td>\n",
       "      <td>The group will prepare for the functional desi...</td>\n",
       "    </tr>\n",
       "    <tr>\n",
       "      <th>9</th>\n",
       "      <td>, th the shape you got trendy. I mean so many ...</td>\n",
       "      <td>The group then discussed the shell-like shape ...</td>\n",
       "    </tr>\n",
       "  </tbody>\n",
       "</table>\n",
       "</div>"
      ],
      "text/plain": [
       "                                                   0  \\\n",
       "0  Okay,, first is the functional design, this is...   \n",
       "1  We're gonna practice with the pens and draw ou...   \n",
       "2  Yeah, I don't I don't know how for twenty fi, ...   \n",
       "3  I'm Sarah, the Project Manager Okay, this is o...   \n",
       "4  but you know on a mobile phone, you can press ...   \n",
       "5  And there's no reason we need to make it look ...   \n",
       "6  finance-wise, we've got a selling price at twe...   \n",
       "7  What are your experiences with remote controls...   \n",
       "8  so we're all gonna go off and do our individua...   \n",
       "9  , th the shape you got trendy. I mean so many ...   \n",
       "\n",
       "                                                   1  \n",
       "0  She presented a long-range agenda for the whol...  \n",
       "1  The group introduced themselves to each other ...  \n",
       "2  There may not be enough money in the budget to...  \n",
       "3  The Project Manager gave an introduction to th...  \n",
       "4  They discussed grouping features into a menu a...  \n",
       "5  They also discussed the look of various materi...  \n",
       "6  The Project Manager presented the project budg...  \n",
       "7  Then the group began a discussion about their ...  \n",
       "8  The group will prepare for the functional desi...  \n",
       "9  The group then discussed the shell-like shape ...  "
      ]
     },
     "execution_count": 5,
     "metadata": {},
     "output_type": "execute_result"
    }
   ],
   "source": [
    "df_test_tsv = pd.read_csv('data\\data.test.tsv',sep = \"\\t\",header=None)\n",
    "df_test_tsv .head(10)"
   ]
  },
  {
   "cell_type": "code",
   "execution_count": 6,
   "metadata": {},
   "outputs": [
    {
     "data": {
      "text/plain": [
       "\"Okay,, first is the functional design, this is where we all go off and do our individual work, what needs need to be fulfilled by the product,, conceptual design, and then the detailed design, how we're actually gonna put it into practice and make it work.\""
      ]
     },
     "execution_count": 6,
     "metadata": {},
     "output_type": "execute_result"
    }
   ],
   "source": [
    "df_test_tsv[0][0]"
   ]
  },
  {
   "cell_type": "code",
   "execution_count": 7,
   "metadata": {},
   "outputs": [
    {
     "data": {
      "text/plain": [
       "'The group introduced themselves to each other and practiced with the meeting room tools by drawing on the board.'"
      ]
     },
     "execution_count": 7,
     "metadata": {},
     "output_type": "execute_result"
    }
   ],
   "source": [
    "df_test_tsv[1][1]"
   ]
  },
  {
   "cell_type": "code",
   "execution_count": 8,
   "metadata": {},
   "outputs": [
    {
     "data": {
      "text/plain": [
       "(342, 2)"
      ]
     },
     "execution_count": 8,
     "metadata": {},
     "output_type": "execute_result"
    }
   ],
   "source": [
    "df_test_tsv.shape"
   ]
  },
  {
   "cell_type": "markdown",
   "metadata": {},
   "source": [
    "# dev file consists of first column 0 as meeting transcript and 1 is its abstraction"
   ]
  },
  {
   "cell_type": "code",
   "execution_count": 9,
   "metadata": {},
   "outputs": [
    {
     "data": {
      "text/html": [
       "<div>\n",
       "<style scoped>\n",
       "    .dataframe tbody tr th:only-of-type {\n",
       "        vertical-align: middle;\n",
       "    }\n",
       "\n",
       "    .dataframe tbody tr th {\n",
       "        vertical-align: top;\n",
       "    }\n",
       "\n",
       "    .dataframe thead th {\n",
       "        text-align: right;\n",
       "    }\n",
       "</style>\n",
       "<table border=\"1\" class=\"dataframe\">\n",
       "  <thead>\n",
       "    <tr style=\"text-align: right;\">\n",
       "      <th></th>\n",
       "      <th>0</th>\n",
       "      <th>1</th>\n",
       "    </tr>\n",
       "  </thead>\n",
       "  <tbody>\n",
       "    <tr>\n",
       "      <th>0</th>\n",
       "      <td>well this is the kick-off meeting for our our ...</td>\n",
       "      <td>The project manager introduced the upcoming pr...</td>\n",
       "    </tr>\n",
       "    <tr>\n",
       "      <th>1</th>\n",
       "      <td>so according to the brief we're gonna be selli...</td>\n",
       "      <td>The project manager talked about the project f...</td>\n",
       "    </tr>\n",
       "    <tr>\n",
       "      <th>2</th>\n",
       "      <td>as well as characters, different keypad styles...</td>\n",
       "      <td>The team then discussed various features to co...</td>\n",
       "    </tr>\n",
       "    <tr>\n",
       "      <th>3</th>\n",
       "      <td>I mean do you think the fact that it's going t...</td>\n",
       "      <td>The remote will be sold on an international sc...</td>\n",
       "    </tr>\n",
       "    <tr>\n",
       "      <th>4</th>\n",
       "      <td>And we don't want it to cost any more than twe...</td>\n",
       "      <td>The production costs cannot exceed 12.50 Euro.</td>\n",
       "    </tr>\n",
       "    <tr>\n",
       "      <th>...</th>\n",
       "      <td>...</td>\n",
       "      <td>...</td>\n",
       "    </tr>\n",
       "    <tr>\n",
       "      <th>1729</th>\n",
       "      <td>think I had the best solution that I came up w...</td>\n",
       "      <td>Because the prototype was over budget, the tea...</td>\n",
       "    </tr>\n",
       "    <tr>\n",
       "      <th>1730</th>\n",
       "      <td>I think it's the best solution to make those c...</td>\n",
       "      <td>They also discarded the special colour, and de...</td>\n",
       "    </tr>\n",
       "    <tr>\n",
       "      <th>1731</th>\n",
       "      <td>Triple R_ it is.</td>\n",
       "      <td>The remote control is going to be called Tripl...</td>\n",
       "    </tr>\n",
       "    <tr>\n",
       "      <th>1732</th>\n",
       "      <td>You have the total of seventeen Euros in produ...</td>\n",
       "      <td>The production cost was 17 euros, 4.5 more tha...</td>\n",
       "    </tr>\n",
       "    <tr>\n",
       "      <th>1733</th>\n",
       "      <td>What do we scrap.</td>\n",
       "      <td>It was imperative that some of the features ha...</td>\n",
       "    </tr>\n",
       "  </tbody>\n",
       "</table>\n",
       "<p>1734 rows × 2 columns</p>\n",
       "</div>"
      ],
      "text/plain": [
       "                                                      0  \\\n",
       "0     well this is the kick-off meeting for our our ...   \n",
       "1     so according to the brief we're gonna be selli...   \n",
       "2     as well as characters, different keypad styles...   \n",
       "3     I mean do you think the fact that it's going t...   \n",
       "4     And we don't want it to cost any more than twe...   \n",
       "...                                                 ...   \n",
       "1729  think I had the best solution that I came up w...   \n",
       "1730  I think it's the best solution to make those c...   \n",
       "1731                                   Triple R_ it is.   \n",
       "1732  You have the total of seventeen Euros in produ...   \n",
       "1733                                  What do we scrap.   \n",
       "\n",
       "                                                      1  \n",
       "0     The project manager introduced the upcoming pr...  \n",
       "1     The project manager talked about the project f...  \n",
       "2     The team then discussed various features to co...  \n",
       "3     The remote will be sold on an international sc...  \n",
       "4        The production costs cannot exceed 12.50 Euro.  \n",
       "...                                                 ...  \n",
       "1729  Because the prototype was over budget, the tea...  \n",
       "1730  They also discarded the special colour, and de...  \n",
       "1731  The remote control is going to be called Tripl...  \n",
       "1732  The production cost was 17 euros, 4.5 more tha...  \n",
       "1733  It was imperative that some of the features ha...  \n",
       "\n",
       "[1734 rows x 2 columns]"
      ]
     },
     "execution_count": 9,
     "metadata": {},
     "output_type": "execute_result"
    }
   ],
   "source": [
    "data_train_txt = pd.read_csv('data\\data.train.tsv',sep='\\t' ,header=None)\n",
    "data_train_txt\n"
   ]
  },
  {
   "cell_type": "code",
   "execution_count": 10,
   "metadata": {},
   "outputs": [
    {
     "data": {
      "text/plain": [
       "\"well this is the kick-off meeting for our our project. so we're designing a new remote control and, as you can see it's supposed to be original, trendy and user friendly. and so there are three different stages to the design. So we're gonna have like individual work and then a meeting about it. And repeat that process three times. So you get to draw your favourite animal and sum up your favourite characteristics of it. My favourite animal is like A beagle., right, well basically high priority for any animal for me is that they be willing to take a lot of physical affection from their family. And, yeah that they have lots of personality Well, my favourite animal would be a monkey. Then they're small cute and furry, and I kind of like whales. They come in and go eat everything in sight. M my favourite animal is my own dog at home. he's very friendly and cheery and always pleased to see you,\""
      ]
     },
     "execution_count": 10,
     "metadata": {},
     "output_type": "execute_result"
    }
   ],
   "source": [
    "data_train_txt[0][0]"
   ]
  },
  {
   "cell_type": "code",
   "execution_count": 11,
   "metadata": {},
   "outputs": [
    {
     "data": {
      "text/plain": [
       "'The project manager talked about the project finances and selling prices.'"
      ]
     },
     "execution_count": 11,
     "metadata": {},
     "output_type": "execute_result"
    }
   ],
   "source": [
    "data_train_txt[1][1]"
   ]
  },
  {
   "cell_type": "code",
   "execution_count": 12,
   "metadata": {},
   "outputs": [
    {
     "data": {
      "text/plain": [
       "(1734, 2)"
      ]
     },
     "execution_count": 12,
     "metadata": {},
     "output_type": "execute_result"
    }
   ],
   "source": [
    "data_train_txt.shape"
   ]
  },
  {
   "cell_type": "code",
   "execution_count": 13,
   "metadata": {},
   "outputs": [
    {
     "data": {
      "text/html": [
       "<div>\n",
       "<style scoped>\n",
       "    .dataframe tbody tr th:only-of-type {\n",
       "        vertical-align: middle;\n",
       "    }\n",
       "\n",
       "    .dataframe tbody tr th {\n",
       "        vertical-align: top;\n",
       "    }\n",
       "\n",
       "    .dataframe thead th {\n",
       "        text-align: right;\n",
       "    }\n",
       "</style>\n",
       "<table border=\"1\" class=\"dataframe\">\n",
       "  <thead>\n",
       "    <tr style=\"text-align: right;\">\n",
       "      <th></th>\n",
       "      <th>0</th>\n",
       "      <th>1</th>\n",
       "    </tr>\n",
       "  </thead>\n",
       "  <tbody>\n",
       "    <tr>\n",
       "      <th>0</th>\n",
       "      <td>well this is the kick-off meeting for our our ...</td>\n",
       "      <td>The project manager introduced the upcoming pr...</td>\n",
       "    </tr>\n",
       "    <tr>\n",
       "      <th>1</th>\n",
       "      <td>so according to the brief we're gonna be selli...</td>\n",
       "      <td>The project manager talked about the project f...</td>\n",
       "    </tr>\n",
       "    <tr>\n",
       "      <th>2</th>\n",
       "      <td>as well as characters, different keypad styles...</td>\n",
       "      <td>The team then discussed various features to co...</td>\n",
       "    </tr>\n",
       "    <tr>\n",
       "      <th>3</th>\n",
       "      <td>I mean do you think the fact that it's going t...</td>\n",
       "      <td>The remote will be sold on an international sc...</td>\n",
       "    </tr>\n",
       "    <tr>\n",
       "      <th>4</th>\n",
       "      <td>And we don't want it to cost any more than twe...</td>\n",
       "      <td>The production costs cannot exceed 12.50 Euro.</td>\n",
       "    </tr>\n",
       "  </tbody>\n",
       "</table>\n",
       "</div>"
      ],
      "text/plain": [
       "                                                   0  \\\n",
       "0  well this is the kick-off meeting for our our ...   \n",
       "1  so according to the brief we're gonna be selli...   \n",
       "2  as well as characters, different keypad styles...   \n",
       "3  I mean do you think the fact that it's going t...   \n",
       "4  And we don't want it to cost any more than twe...   \n",
       "\n",
       "                                                   1  \n",
       "0  The project manager introduced the upcoming pr...  \n",
       "1  The project manager talked about the project f...  \n",
       "2  The team then discussed various features to co...  \n",
       "3  The remote will be sold on an international sc...  \n",
       "4     The production costs cannot exceed 12.50 Euro.  "
      ]
     },
     "execution_count": 13,
     "metadata": {},
     "output_type": "execute_result"
    }
   ],
   "source": [
    "data_train_txt.head()"
   ]
  },
  {
   "cell_type": "markdown",
   "metadata": {},
   "source": [
    "# Data Analysis of train data"
   ]
  },
  {
   "cell_type": "code",
   "execution_count": 14,
   "metadata": {},
   "outputs": [],
   "source": [
    "# length of out of 1734 rows only 633 rows are unique"
   ]
  },
  {
   "cell_type": "code",
   "execution_count": 15,
   "metadata": {},
   "outputs": [
    {
     "data": {
      "text/html": [
       "<div>\n",
       "<style scoped>\n",
       "    .dataframe tbody tr th:only-of-type {\n",
       "        vertical-align: middle;\n",
       "    }\n",
       "\n",
       "    .dataframe tbody tr th {\n",
       "        vertical-align: top;\n",
       "    }\n",
       "\n",
       "    .dataframe thead th {\n",
       "        text-align: right;\n",
       "    }\n",
       "</style>\n",
       "<table border=\"1\" class=\"dataframe\">\n",
       "  <thead>\n",
       "    <tr style=\"text-align: right;\">\n",
       "      <th></th>\n",
       "      <th>0</th>\n",
       "      <th>1</th>\n",
       "    </tr>\n",
       "  </thead>\n",
       "  <tbody>\n",
       "    <tr>\n",
       "      <th>count</th>\n",
       "      <td>1734</td>\n",
       "      <td>1731</td>\n",
       "    </tr>\n",
       "    <tr>\n",
       "      <th>unique</th>\n",
       "      <td>1701</td>\n",
       "      <td>1665</td>\n",
       "    </tr>\n",
       "    <tr>\n",
       "      <th>top</th>\n",
       "      <td>so let's go back to our laboratory and To impr...</td>\n",
       "      <td>The team will not work with teletext.</td>\n",
       "    </tr>\n",
       "    <tr>\n",
       "      <th>freq</th>\n",
       "      <td>3</td>\n",
       "      <td>6</td>\n",
       "    </tr>\n",
       "  </tbody>\n",
       "</table>\n",
       "</div>"
      ],
      "text/plain": [
       "                                                        0  \\\n",
       "count                                                1734   \n",
       "unique                                               1701   \n",
       "top     so let's go back to our laboratory and To impr...   \n",
       "freq                                                    3   \n",
       "\n",
       "                                            1  \n",
       "count                                    1731  \n",
       "unique                                   1665  \n",
       "top     The team will not work with teletext.  \n",
       "freq                                        6  "
      ]
     },
     "execution_count": 15,
     "metadata": {},
     "output_type": "execute_result"
    }
   ],
   "source": [
    "data_train_txt.describe()"
   ]
  },
  {
   "cell_type": "code",
   "execution_count": 16,
   "metadata": {},
   "outputs": [
    {
     "data": {
      "text/html": [
       "<div>\n",
       "<style scoped>\n",
       "    .dataframe tbody tr th:only-of-type {\n",
       "        vertical-align: middle;\n",
       "    }\n",
       "\n",
       "    .dataframe tbody tr th {\n",
       "        vertical-align: top;\n",
       "    }\n",
       "\n",
       "    .dataframe thead th {\n",
       "        text-align: right;\n",
       "    }\n",
       "</style>\n",
       "<table border=\"1\" class=\"dataframe\">\n",
       "  <thead>\n",
       "    <tr style=\"text-align: right;\">\n",
       "      <th></th>\n",
       "      <th>0</th>\n",
       "      <th>1</th>\n",
       "      <th>len_records</th>\n",
       "    </tr>\n",
       "  </thead>\n",
       "  <tbody>\n",
       "    <tr>\n",
       "      <th>0</th>\n",
       "      <td>well this is the kick-off meeting for our our ...</td>\n",
       "      <td>The project manager introduced the upcoming pr...</td>\n",
       "      <td>901</td>\n",
       "    </tr>\n",
       "    <tr>\n",
       "      <th>1</th>\n",
       "      <td>so according to the brief we're gonna be selli...</td>\n",
       "      <td>The project manager talked about the project f...</td>\n",
       "      <td>765</td>\n",
       "    </tr>\n",
       "    <tr>\n",
       "      <th>2</th>\n",
       "      <td>as well as characters, different keypad styles...</td>\n",
       "      <td>The team then discussed various features to co...</td>\n",
       "      <td>1346</td>\n",
       "    </tr>\n",
       "    <tr>\n",
       "      <th>3</th>\n",
       "      <td>I mean do you think the fact that it's going t...</td>\n",
       "      <td>The remote will be sold on an international sc...</td>\n",
       "      <td>213</td>\n",
       "    </tr>\n",
       "    <tr>\n",
       "      <th>4</th>\n",
       "      <td>And we don't want it to cost any more than twe...</td>\n",
       "      <td>The production costs cannot exceed 12.50 Euro.</td>\n",
       "      <td>101</td>\n",
       "    </tr>\n",
       "  </tbody>\n",
       "</table>\n",
       "</div>"
      ],
      "text/plain": [
       "                                                   0  \\\n",
       "0  well this is the kick-off meeting for our our ...   \n",
       "1  so according to the brief we're gonna be selli...   \n",
       "2  as well as characters, different keypad styles...   \n",
       "3  I mean do you think the fact that it's going t...   \n",
       "4  And we don't want it to cost any more than twe...   \n",
       "\n",
       "                                                   1  len_records  \n",
       "0  The project manager introduced the upcoming pr...          901  \n",
       "1  The project manager talked about the project f...          765  \n",
       "2  The team then discussed various features to co...         1346  \n",
       "3  The remote will be sold on an international sc...          213  \n",
       "4     The production costs cannot exceed 12.50 Euro.          101  "
      ]
     },
     "execution_count": 16,
     "metadata": {},
     "output_type": "execute_result"
    }
   ],
   "source": [
    "data_train_txt['len_records'] =data_train_txt[0].apply(len)\n",
    "data_train_txt[:5]"
   ]
  },
  {
   "cell_type": "code",
   "execution_count": 17,
   "metadata": {},
   "outputs": [
    {
     "data": {
      "text/plain": [
       "pandas.core.series.Series"
      ]
     },
     "execution_count": 17,
     "metadata": {},
     "output_type": "execute_result"
    }
   ],
   "source": [
    "type(data_train_txt[1])"
   ]
  },
  {
   "cell_type": "code",
   "execution_count": 18,
   "metadata": {},
   "outputs": [],
   "source": [
    "data_train_txt[1]= data_train_txt[1].astype(str) \n"
   ]
  },
  {
   "cell_type": "code",
   "execution_count": null,
   "metadata": {},
   "outputs": [
    {
     "data": {
      "text/html": [
       "<div>\n",
       "<style scoped>\n",
       "    .dataframe tbody tr th:only-of-type {\n",
       "        vertical-align: middle;\n",
       "    }\n",
       "\n",
       "    .dataframe tbody tr th {\n",
       "        vertical-align: top;\n",
       "    }\n",
       "\n",
       "    .dataframe thead th {\n",
       "        text-align: right;\n",
       "    }\n",
       "</style>\n",
       "<table border=\"1\" class=\"dataframe\">\n",
       "  <thead>\n",
       "    <tr style=\"text-align: right;\">\n",
       "      <th></th>\n",
       "      <th>0</th>\n",
       "      <th>1</th>\n",
       "      <th>len_records</th>\n",
       "    </tr>\n",
       "  </thead>\n",
       "  <tbody>\n",
       "    <tr>\n",
       "      <th>0</th>\n",
       "      <td>well this is the kick-off meeting for our our ...</td>\n",
       "      <td>The project manager introduced the upcoming pr...</td>\n",
       "      <td>901</td>\n",
       "    </tr>\n",
       "    <tr>\n",
       "      <th>1</th>\n",
       "      <td>so according to the brief we're gonna be selli...</td>\n",
       "      <td>The project manager talked about the project f...</td>\n",
       "      <td>765</td>\n",
       "    </tr>\n",
       "    <tr>\n",
       "      <th>2</th>\n",
       "      <td>as well as characters, different keypad styles...</td>\n",
       "      <td>The team then discussed various features to co...</td>\n",
       "      <td>1346</td>\n",
       "    </tr>\n",
       "    <tr>\n",
       "      <th>3</th>\n",
       "      <td>I mean do you think the fact that it's going t...</td>\n",
       "      <td>The remote will be sold on an international sc...</td>\n",
       "      <td>213</td>\n",
       "    </tr>\n",
       "    <tr>\n",
       "      <th>4</th>\n",
       "      <td>And we don't want it to cost any more than twe...</td>\n",
       "      <td>The production costs cannot exceed 12.50 Euro.</td>\n",
       "      <td>101</td>\n",
       "    </tr>\n",
       "    <tr>\n",
       "      <th>...</th>\n",
       "      <td>...</td>\n",
       "      <td>...</td>\n",
       "      <td>...</td>\n",
       "    </tr>\n",
       "    <tr>\n",
       "      <th>1729</th>\n",
       "      <td>think I had the best solution that I came up w...</td>\n",
       "      <td>Because the prototype was over budget, the tea...</td>\n",
       "      <td>153</td>\n",
       "    </tr>\n",
       "    <tr>\n",
       "      <th>1730</th>\n",
       "      <td>I think it's the best solution to make those c...</td>\n",
       "      <td>They also discarded the special colour, and de...</td>\n",
       "      <td>160</td>\n",
       "    </tr>\n",
       "    <tr>\n",
       "      <th>1731</th>\n",
       "      <td>Triple R_ it is.</td>\n",
       "      <td>The remote control is going to be called Tripl...</td>\n",
       "      <td>16</td>\n",
       "    </tr>\n",
       "    <tr>\n",
       "      <th>1732</th>\n",
       "      <td>You have the total of seventeen Euros in produ...</td>\n",
       "      <td>The production cost was 17 euros, 4.5 more tha...</td>\n",
       "      <td>57</td>\n",
       "    </tr>\n",
       "    <tr>\n",
       "      <th>1733</th>\n",
       "      <td>What do we scrap.</td>\n",
       "      <td>It was imperative that some of the features ha...</td>\n",
       "      <td>17</td>\n",
       "    </tr>\n",
       "  </tbody>\n",
       "</table>\n",
       "<p>1734 rows × 3 columns</p>\n",
       "</div>"
      ],
      "text/plain": [
       "                                                      0  \\\n",
       "0     well this is the kick-off meeting for our our ...   \n",
       "1     so according to the brief we're gonna be selli...   \n",
       "2     as well as characters, different keypad styles...   \n",
       "3     I mean do you think the fact that it's going t...   \n",
       "4     And we don't want it to cost any more than twe...   \n",
       "...                                                 ...   \n",
       "1729  think I had the best solution that I came up w...   \n",
       "1730  I think it's the best solution to make those c...   \n",
       "1731                                   Triple R_ it is.   \n",
       "1732  You have the total of seventeen Euros in produ...   \n",
       "1733                                  What do we scrap.   \n",
       "\n",
       "                                                      1  len_records  \n",
       "0     The project manager introduced the upcoming pr...          901  \n",
       "1     The project manager talked about the project f...          765  \n",
       "2     The team then discussed various features to co...         1346  \n",
       "3     The remote will be sold on an international sc...          213  \n",
       "4        The production costs cannot exceed 12.50 Euro.          101  \n",
       "...                                                 ...          ...  \n",
       "1729  Because the prototype was over budget, the tea...          153  \n",
       "1730  They also discarded the special colour, and de...          160  \n",
       "1731  The remote control is going to be called Tripl...           16  \n",
       "1732  The production cost was 17 euros, 4.5 more tha...           57  \n",
       "1733  It was imperative that some of the features ha...           17  \n",
       "\n",
       "[1734 rows x 3 columns]"
      ]
     },
     "execution_count": 19,
     "metadata": {},
     "output_type": "execute_result"
    }
   ],
   "source": [
    "data_train_txt.fillna(\"\")"
   ]
  },
  {
   "cell_type": "code",
   "execution_count": null,
   "metadata": {},
   "outputs": [],
   "source": [
    "data_train_txt['len_summary'] = data_train_txt[1].apply(len)\n",
    "data_train_txt[:5]"
   ]
  },
  {
   "cell_type": "code",
   "execution_count": null,
   "metadata": {},
   "outputs": [],
   "source": [
    "data_train_txt['len_record'] = data_train_txt[0].apply(len)\n",
    "data_train_txt[:5]"
   ]
  },
  {
   "cell_type": "code",
   "execution_count": null,
   "metadata": {},
   "outputs": [],
   "source": [
    "# Plot the length os sentences"
   ]
  },
  {
   "cell_type": "code",
   "execution_count": null,
   "metadata": {},
   "outputs": [],
   "source": [
    "data_train_txt['len_record'].plot.hist(bins=50)"
   ]
  },
  {
   "cell_type": "code",
   "execution_count": null,
   "metadata": {},
   "outputs": [],
   "source": [
    "import matplotlib.pyplot as plt\n",
    "import seaborn as sns\n",
    "%matplotlib inline"
   ]
  },
  {
   "cell_type": "code",
   "execution_count": null,
   "metadata": {},
   "outputs": [],
   "source": [
    "data_train_txt['len_summary'].plot.hist(bins=50)"
   ]
  },
  {
   "cell_type": "markdown",
   "metadata": {},
   "source": [
    "# see the max , min and mean length of records in the data"
   ]
  },
  {
   "cell_type": "code",
   "execution_count": null,
   "metadata": {},
   "outputs": [],
   "source": [
    "data_train_txt['len_record'].describe()"
   ]
  },
  {
   "cell_type": "code",
   "execution_count": null,
   "metadata": {},
   "outputs": [],
   "source": [
    "# observed 2068 words in a meeting transcript\n",
    "data_train_txt[data_train_txt['len_record'] == 2068][0].iloc[0]"
   ]
  },
  {
   "cell_type": "code",
   "execution_count": null,
   "metadata": {},
   "outputs": [],
   "source": [
    "## observed 4 words in a meeting transcript\n",
    "data_train_txt[data_train_txt['len_record'] == 4][0].iloc[0]"
   ]
  },
  {
   "cell_type": "code",
   "execution_count": null,
   "metadata": {},
   "outputs": [],
   "source": [
    "data_train_txt['len_summary'].describe()"
   ]
  },
  {
   "cell_type": "code",
   "execution_count": null,
   "metadata": {},
   "outputs": [],
   "source": [
    "# maximum summary in train data\n",
    "data_train_txt[data_train_txt['len_summary'] == 398][0].iloc[0]"
   ]
  },
  {
   "cell_type": "markdown",
   "metadata": {},
   "source": [
    "# Word Clouds \n",
    "# display a set of words in the form of a cloud. The more frequent a word appears in\n",
    "# the text, the bigger it will become. Thus, by simply looking at the cloud"
   ]
  },
  {
   "cell_type": "code",
   "execution_count": null,
   "metadata": {},
   "outputs": [],
   "source": [
    "!pip install wordcloud"
   ]
  },
  {
   "cell_type": "code",
   "execution_count": null,
   "metadata": {},
   "outputs": [],
   "source": [
    "import collections\n",
    "import numpy as np\n",
    "import pandas as pd\n",
    "import matplotlib.cm as cm\n",
    "import matplotlib.pyplot as plt\n",
    "from matplotlib import rcParams\n",
    "from wordcloud import WordCloud, STOPWORDS\n",
    "%matplotlib inline"
   ]
  },
  {
   "cell_type": "code",
   "execution_count": null,
   "metadata": {},
   "outputs": [],
   "source": [
    "# convert all the records to lower case using lower() method and combine them into\n",
    "# a variable records."
   ]
  },
  {
   "cell_type": "code",
   "execution_count": null,
   "metadata": {},
   "outputs": [],
   "source": [
    "# Column 0 means recorded scripts\n",
    "all_records = ''.join(data_train_txt[0].str.lower())\n",
    "all_records"
   ]
  },
  {
   "cell_type": "code",
   "execution_count": null,
   "metadata": {},
   "outputs": [],
   "source": [
    "stopwords = STOPWORDS\n",
    "wordcloud = WordCloud(stopwords=stopwords, background_color=\"white\", max_words=1981).generate(all_records)\n",
    "rcParams['figure.figsize'] = 10, 20\n",
    "plt.imshow(wordcloud)\n",
    "plt.axis(\"off\")\n",
    "plt.show()"
   ]
  },
  {
   "cell_type": "markdown",
   "metadata": {},
   "source": [
    "# wordcloud for recorded scripts"
   ]
  },
  {
   "cell_type": "code",
   "execution_count": null,
   "metadata": {},
   "outputs": [],
   "source": [
    "filtered_words = [word for word in all_records.split() if word not in stopwords]\n",
    "counted_words = collections.Counter(filtered_words)\n",
    "\n",
    "words = []\n",
    "counts = []\n",
    "for letter, count in counted_words.most_common(10):\n",
    "    words.append(letter)\n",
    "    counts.append(count)\n",
    "colors = cm.rainbow(np.linspace(0, 1, 10))\n",
    "rcParams['figure.figsize'] = 20, 10\n",
    "\n",
    "plt.title('Top words in the headlines vs their count')\n",
    "plt.xlabel('Count')\n",
    "plt.ylabel('Words')\n",
    "plt.barh(words, counts, color=colors)"
   ]
  },
  {
   "cell_type": "code",
   "execution_count": null,
   "metadata": {},
   "outputs": [],
   "source": [
    "# Most repeated wotrds\n",
    "counted_words.most_common(50)"
   ]
  },
  {
   "cell_type": "markdown",
   "metadata": {},
   "source": [
    "# word cloud of summaries"
   ]
  },
  {
   "cell_type": "code",
   "execution_count": null,
   "metadata": {},
   "outputs": [],
   "source": [
    "# Column 1 means summaries\n",
    "all_summaries = ''.join(data_dev_txt[1].str.lower())\n",
    "all_summaries"
   ]
  },
  {
   "cell_type": "code",
   "execution_count": null,
   "metadata": {},
   "outputs": [],
   "source": [
    "stopwords = STOPWORDS\n",
    "wordcloud = WordCloud(stopwords=stopwords, background_color=\"white\", max_words=1981).generate(all_records)\n",
    "rcParams['figure.figsize'] = 10, 20\n",
    "plt.imshow(wordcloud)\n",
    "plt.axis(\"off\")\n",
    "plt.show()"
   ]
  },
  {
   "cell_type": "code",
   "execution_count": null,
   "metadata": {},
   "outputs": [],
   "source": [
    "filtered_words_summaries = [word for word in all_summaries.split() if word not in stopwords]\n",
    "counted_words_summaries = collections.Counter(filtered_words)\n",
    "\n",
    "words = []\n",
    "counts = []\n",
    "for letter, count in counted_words.most_common(10):\n",
    "    words.append(letter)\n",
    "    counts.append(count)\n",
    "colors = cm.rainbow(np.linspace(0, 1, 10))\n",
    "rcParams['figure.figsize'] = 20, 10\n",
    "\n",
    "plt.title('Top words in the headlines vs their count')\n",
    "plt.xlabel('Count')\n",
    "plt.ylabel('Words')\n",
    "plt.barh(words, counts, color=colors)"
   ]
  },
  {
   "cell_type": "code",
   "execution_count": null,
   "metadata": {},
   "outputs": [],
   "source": [
    "# Most repeated wotrds\n",
    "counted_words_summaries.most_common(50)"
   ]
  },
  {
   "cell_type": "code",
   "execution_count": null,
   "metadata": {},
   "outputs": [],
   "source": [
    "all_data = pd.DataFrame(pd.concat([data_train_txt[0], data_train_txt[1]]))\n",
    "all_data.columns = [\"rec\"]\n",
    "\n",
    "all_data[\"num_of_words\"] = all_data[\"rec\"].apply(lambda x : len(str(x).split()))\n",
    "all_data[\"num_of_words\"]"
   ]
  },
  {
   "cell_type": "code",
   "execution_count": null,
   "metadata": {},
   "outputs": [],
   "source": [
    "!pip install NLTK\n",
    "import nltk\n",
    "nltk.download()"
   ]
  },
  {
   "cell_type": "code",
   "execution_count": null,
   "metadata": {},
   "outputs": [],
   "source": [
    "STOP_WORDS = nltk.corpus.stopwords.words()\n",
    "\n",
    "def clean_sentence(val):\n",
    "    \"remove chars that are not letters or numbers, downcase, then remove stop words\"\n",
    "    regex = re.compile('([^\\s\\w]|_)+')\n",
    "    sentence = regex.sub('', val).lower()\n",
    "    sentence = sentence.split(\" \")\n",
    "    \n",
    "    for word in list(sentence):\n",
    "        if word in STOP_WORDS:\n",
    "            sentence.remove(word)  \n",
    "            \n",
    "    sentence = \" \".join(sentence)\n",
    "    return sentence\n",
    "\n",
    "def clean_dataframe(data_train_txt):\n",
    "    \"drop nans, then apply 'clean_sentence' function to question1 and 2\"\n",
    "    data_train_txt = data_train_txt.dropna(how=\"any\")\n",
    "    \n",
    "    for col in [0, 1]:\n",
    "        data_train_txt[col] = data_train_txt[col].apply(clean_sentence)\n",
    "    \n",
    "    return data_train_txt\n",
    "\n",
    "data = clean_dataframe(data_train_txt)\n",
    "data.head(5)"
   ]
  },
  {
   "cell_type": "code",
   "execution_count": null,
   "metadata": {},
   "outputs": [],
   "source": []
  },
  {
   "cell_type": "code",
   "execution_count": null,
   "metadata": {},
   "outputs": [],
   "source": [
    "cnt_srs = all_data['num_of_words'].value_counts()\n",
    "\n",
    "plt.figure(figsize=(12,6))\n",
    "sns.barplot(cnt_srs.index, cnt_srs.values, alpha=0.8)#,color=color[0])\n",
    "plt.ylabel('Number of Occurrences', fontsize=12)\n",
    "plt.xlabel('Number of words in the question', fontsize=12)\n",
    "plt.xticks(rotation='vertical')\n",
    "plt.show()"
   ]
  },
  {
   "cell_type": "code",
   "execution_count": null,
   "metadata": {},
   "outputs": [],
   "source": []
  }
 ],
 "metadata": {
  "kernelspec": {
   "display_name": "Python 3",
   "language": "python",
   "name": "python3"
  },
  "language_info": {
   "codemirror_mode": {
    "name": "ipython",
    "version": 3
   },
   "file_extension": ".py",
   "mimetype": "text/x-python",
   "name": "python",
   "nbconvert_exporter": "python",
   "pygments_lexer": "ipython3",
   "version": "3.7.2"
  }
 },
 "nbformat": 4,
 "nbformat_minor": 2
}
